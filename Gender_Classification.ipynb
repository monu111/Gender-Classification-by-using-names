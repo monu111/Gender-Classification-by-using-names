{
  "nbformat": 4,
  "nbformat_minor": 0,
  "metadata": {
    "colab": {
      "name": "Gender Classification.ipynb",
      "provenance": [],
      "collapsed_sections": [],
      "toc_visible": true,
      "authorship_tag": "ABX9TyMndrAxx4rt2xR0XfTxnY91",
      "include_colab_link": true
    },
    "kernelspec": {
      "display_name": "Python 3",
      "name": "python3"
    }
  },
  "cells": [
    {
      "cell_type": "markdown",
      "metadata": {
        "id": "view-in-github",
        "colab_type": "text"
      },
      "source": [
        "<a href=\"https://colab.research.google.com/github/monu111/Gender-Classification-by-using-names/blob/main/Gender_Classification.ipynb\" target=\"_parent\"><img src=\"https://colab.research.google.com/assets/colab-badge.svg\" alt=\"Open In Colab\"/></a>"
      ]
    },
    {
      "cell_type": "code",
      "metadata": {
        "colab": {
          "base_uri": "https://localhost:8080/"
        },
        "id": "DsJEi5OdPqiy",
        "outputId": "0cd64583-a334-43a2-e3d2-20ee087579cb"
      },
      "source": [
        "from google.colab import drive\n",
        "drive.mount('/content/drive')"
      ],
      "execution_count": null,
      "outputs": [
        {
          "output_type": "stream",
          "text": [
            "Mounted at /content/drive\n"
          ],
          "name": "stdout"
        }
      ]
    },
    {
      "cell_type": "code",
      "metadata": {
        "colab": {
          "base_uri": "https://localhost:8080/"
        },
        "id": "_bZ2FngDc6xW",
        "outputId": "10d8b47e-2e81-4bf6-ae69-fec4f897d0be"
      },
      "source": [
        "%cd /content/drive/MyDrive/Colab Notebooks/Gender classification  "
      ],
      "execution_count": null,
      "outputs": [
        {
          "output_type": "stream",
          "text": [
            "/content/drive/MyDrive/Colab Notebooks/Gender classification\n"
          ],
          "name": "stdout"
        }
      ]
    },
    {
      "cell_type": "markdown",
      "metadata": {
        "id": "uxpGHT57PaQs"
      },
      "source": [
        "# 1. Importing the libraries"
      ]
    },
    {
      "cell_type": "code",
      "metadata": {
        "id": "r9l4nK0XPde6"
      },
      "source": [
        "import numpy as np\r\n",
        "import pandas as pd\r\n",
        "import matplotlib.pyplot as plt\r\n",
        "import seaborn as sns\r\n",
        "import re\r\n",
        "\r\n",
        "import warnings\r\n",
        "warnings.filterwarnings('ignore')"
      ],
      "execution_count": null,
      "outputs": []
    },
    {
      "cell_type": "markdown",
      "metadata": {
        "id": "mklFnO2mPi5K"
      },
      "source": [
        "# 2. loading the dataset"
      ]
    },
    {
      "cell_type": "code",
      "metadata": {
        "colab": {
          "base_uri": "https://localhost:8080/",
          "height": 195
        },
        "id": "gAtDkRhePk5i",
        "outputId": "87afa14a-80fd-49ff-be26-3dd17f8bd00c"
      },
      "source": [
        "df = pd.read_csv('name_gender.csv')\r\n",
        "df.head()"
      ],
      "execution_count": null,
      "outputs": [
        {
          "output_type": "execute_result",
          "data": {
            "text/html": [
              "<div>\n",
              "<style scoped>\n",
              "    .dataframe tbody tr th:only-of-type {\n",
              "        vertical-align: middle;\n",
              "    }\n",
              "\n",
              "    .dataframe tbody tr th {\n",
              "        vertical-align: top;\n",
              "    }\n",
              "\n",
              "    .dataframe thead th {\n",
              "        text-align: right;\n",
              "    }\n",
              "</style>\n",
              "<table border=\"1\" class=\"dataframe\">\n",
              "  <thead>\n",
              "    <tr style=\"text-align: right;\">\n",
              "      <th></th>\n",
              "      <th>Aaban</th>\n",
              "      <th>M</th>\n",
              "      <th>1</th>\n",
              "    </tr>\n",
              "  </thead>\n",
              "  <tbody>\n",
              "    <tr>\n",
              "      <th>0</th>\n",
              "      <td>Aabha</td>\n",
              "      <td>F</td>\n",
              "      <td>1.0</td>\n",
              "    </tr>\n",
              "    <tr>\n",
              "      <th>1</th>\n",
              "      <td>Aabid</td>\n",
              "      <td>M</td>\n",
              "      <td>1.0</td>\n",
              "    </tr>\n",
              "    <tr>\n",
              "      <th>2</th>\n",
              "      <td>Aabriella</td>\n",
              "      <td>F</td>\n",
              "      <td>1.0</td>\n",
              "    </tr>\n",
              "    <tr>\n",
              "      <th>3</th>\n",
              "      <td>Aada</td>\n",
              "      <td>F</td>\n",
              "      <td>1.0</td>\n",
              "    </tr>\n",
              "    <tr>\n",
              "      <th>4</th>\n",
              "      <td>Aadam</td>\n",
              "      <td>M</td>\n",
              "      <td>1.0</td>\n",
              "    </tr>\n",
              "  </tbody>\n",
              "</table>\n",
              "</div>"
            ],
            "text/plain": [
              "       Aaban  M    1\n",
              "0      Aabha  F  1.0\n",
              "1      Aabid  M  1.0\n",
              "2  Aabriella  F  1.0\n",
              "3       Aada  F  1.0\n",
              "4      Aadam  M  1.0"
            ]
          },
          "metadata": {
            "tags": []
          },
          "execution_count": 5
        }
      ]
    },
    {
      "cell_type": "markdown",
      "metadata": {
        "id": "GWSXtTJ7H2XQ"
      },
      "source": [
        "### 2.1 Renaming the columns"
      ]
    },
    {
      "cell_type": "code",
      "metadata": {
        "id": "TTsxQBfbH5oo"
      },
      "source": [
        "df.columns = ['name', 'gender', 'score'] # renaming the columns"
      ],
      "execution_count": null,
      "outputs": []
    },
    {
      "cell_type": "code",
      "metadata": {
        "colab": {
          "base_uri": "https://localhost:8080/",
          "height": 195
        },
        "id": "SlIMUILRIgc4",
        "outputId": "83b037c5-b774-4496-fc7e-a9ef864031f8"
      },
      "source": [
        "df.head()"
      ],
      "execution_count": null,
      "outputs": [
        {
          "output_type": "execute_result",
          "data": {
            "text/html": [
              "<div>\n",
              "<style scoped>\n",
              "    .dataframe tbody tr th:only-of-type {\n",
              "        vertical-align: middle;\n",
              "    }\n",
              "\n",
              "    .dataframe tbody tr th {\n",
              "        vertical-align: top;\n",
              "    }\n",
              "\n",
              "    .dataframe thead th {\n",
              "        text-align: right;\n",
              "    }\n",
              "</style>\n",
              "<table border=\"1\" class=\"dataframe\">\n",
              "  <thead>\n",
              "    <tr style=\"text-align: right;\">\n",
              "      <th></th>\n",
              "      <th>name</th>\n",
              "      <th>gender</th>\n",
              "      <th>score</th>\n",
              "    </tr>\n",
              "  </thead>\n",
              "  <tbody>\n",
              "    <tr>\n",
              "      <th>0</th>\n",
              "      <td>Aabha</td>\n",
              "      <td>F</td>\n",
              "      <td>1.0</td>\n",
              "    </tr>\n",
              "    <tr>\n",
              "      <th>1</th>\n",
              "      <td>Aabid</td>\n",
              "      <td>M</td>\n",
              "      <td>1.0</td>\n",
              "    </tr>\n",
              "    <tr>\n",
              "      <th>2</th>\n",
              "      <td>Aabriella</td>\n",
              "      <td>F</td>\n",
              "      <td>1.0</td>\n",
              "    </tr>\n",
              "    <tr>\n",
              "      <th>3</th>\n",
              "      <td>Aada</td>\n",
              "      <td>F</td>\n",
              "      <td>1.0</td>\n",
              "    </tr>\n",
              "    <tr>\n",
              "      <th>4</th>\n",
              "      <td>Aadam</td>\n",
              "      <td>M</td>\n",
              "      <td>1.0</td>\n",
              "    </tr>\n",
              "  </tbody>\n",
              "</table>\n",
              "</div>"
            ],
            "text/plain": [
              "        name gender  score\n",
              "0      Aabha      F    1.0\n",
              "1      Aabid      M    1.0\n",
              "2  Aabriella      F    1.0\n",
              "3       Aada      F    1.0\n",
              "4      Aadam      M    1.0"
            ]
          },
          "metadata": {
            "tags": []
          },
          "execution_count": 48
        }
      ]
    },
    {
      "cell_type": "markdown",
      "metadata": {
        "id": "5M5tN0yWQE1r"
      },
      "source": [
        "### 2.2 Shape of the dataset"
      ]
    },
    {
      "cell_type": "code",
      "metadata": {
        "colab": {
          "base_uri": "https://localhost:8080/"
        },
        "id": "jwAz26zjQD57",
        "outputId": "30e11289-df69-4786-a9dc-d85fa78af982"
      },
      "source": [
        "df.shape"
      ],
      "execution_count": null,
      "outputs": [
        {
          "output_type": "execute_result",
          "data": {
            "text/plain": [
              "(95024, 3)"
            ]
          },
          "metadata": {
            "tags": []
          },
          "execution_count": 7
        }
      ]
    },
    {
      "cell_type": "markdown",
      "metadata": {
        "id": "LvVP92jmRdgx"
      },
      "source": [
        "- There are total 95024 samples and 3 features"
      ]
    },
    {
      "cell_type": "markdown",
      "metadata": {
        "id": "EO_sFkOnQKh4"
      },
      "source": [
        "### 2.3 Checking the missing values"
      ]
    },
    {
      "cell_type": "code",
      "metadata": {
        "colab": {
          "base_uri": "https://localhost:8080/"
        },
        "id": "ruz8R5-nQIwx",
        "outputId": "0de7594f-7389-40de-a182-6f91f70735b1"
      },
      "source": [
        "df.isnull().sum()"
      ],
      "execution_count": null,
      "outputs": [
        {
          "output_type": "execute_result",
          "data": {
            "text/plain": [
              "name      0\n",
              "gender    0\n",
              "score     0\n",
              "dtype: int64"
            ]
          },
          "metadata": {
            "tags": []
          },
          "execution_count": 8
        }
      ]
    },
    {
      "cell_type": "markdown",
      "metadata": {
        "id": "lbBVXammRaHC"
      },
      "source": [
        "- There is no missing values."
      ]
    },
    {
      "cell_type": "markdown",
      "metadata": {
        "id": "GUiRLF3JTB76"
      },
      "source": [
        "### 2.4 Checking the dtype of dataset"
      ]
    },
    {
      "cell_type": "code",
      "metadata": {
        "colab": {
          "base_uri": "https://localhost:8080/"
        },
        "id": "bBnKbwZlTEaJ",
        "outputId": "9c63eaa5-0935-4eb8-f241-972b5c9558b2"
      },
      "source": [
        "df.info()"
      ],
      "execution_count": null,
      "outputs": [
        {
          "output_type": "stream",
          "text": [
            "<class 'pandas.core.frame.DataFrame'>\n",
            "RangeIndex: 95024 entries, 0 to 95023\n",
            "Data columns (total 3 columns):\n",
            " #   Column  Non-Null Count  Dtype  \n",
            "---  ------  --------------  -----  \n",
            " 0   name    95024 non-null  object \n",
            " 1   gender  95024 non-null  object \n",
            " 2   score   95024 non-null  float64\n",
            "dtypes: float64(1), object(2)\n",
            "memory usage: 2.2+ MB\n"
          ],
          "name": "stdout"
        }
      ]
    },
    {
      "cell_type": "markdown",
      "metadata": {
        "id": "m_cqWP4jdWnE"
      },
      "source": [
        "### 2.5 Distribution of male and female"
      ]
    },
    {
      "cell_type": "code",
      "metadata": {
        "colab": {
          "base_uri": "https://localhost:8080/"
        },
        "id": "1dHLLT1eR3ca",
        "outputId": "d4a60be2-2f2b-40d1-969d-3559f79a2c13"
      },
      "source": [
        "v = df['gender'].value_counts()\r\n",
        "print(v)"
      ],
      "execution_count": null,
      "outputs": [
        {
          "output_type": "stream",
          "text": [
            "F    60304\n",
            "M    34720\n",
            "Name: gender, dtype: int64\n"
          ],
          "name": "stdout"
        }
      ]
    },
    {
      "cell_type": "code",
      "metadata": {
        "colab": {
          "base_uri": "https://localhost:8080/",
          "height": 482
        },
        "id": "5NwMY7z-UXKT",
        "outputId": "bf438752-73b7-484f-b998-6596f7adb398"
      },
      "source": [
        " \r\n",
        "fig  =plt.gcf()\r\n",
        "fig.set_size_inches((10,8))\r\n",
        "cmap = plt.get_cmap('Set2')\r\n",
        "color=  cmap(np.arange(len(v)))\r\n",
        "plt.pie(v,labels = v.index ,autopct = '%0.02f', colors = color, shadow = True, wedgeprops = dict(width = 0.6), radius = 1)\r\n",
        "plt.title('Male Vs Female')\r\n",
        "plt.show()"
      ],
      "execution_count": null,
      "outputs": [
        {
          "output_type": "display_data",
          "data": {
            "image/png": "[encoded data removed]",
            "text/plain": [
              "<Figure size 720x576 with 1 Axes>"
            ]
          },
          "metadata": {
            "tags": []
          }
        }
      ]
    },
    {
      "cell_type": "markdown",
      "metadata": {
        "id": "G7XQI0LLSezK"
      },
      "source": [
        "- From the observation,  there are total 60304(63.46%) Female and 34720 are Male(36.54% )."
      ]
    },
    {
      "cell_type": "markdown",
      "metadata": {
        "id": "nxfwacwHZoZy"
      },
      "source": [
        "# 3. Text Preprocessing"
      ]
    },
    {
      "cell_type": "markdown",
      "metadata": {
        "id": "jZDVbS2OI6xL"
      },
      "source": [
        "### 3.1 Encoding of Gender columns"
      ]
    },
    {
      "cell_type": "code",
      "metadata": {
        "id": "KnErw3WpG2So"
      },
      "source": [
        "df.gender[df.gender == 'M'] = 1 # male is  1\r\n",
        "df.gender[df.gender == 'F'] = 0 # female is 0\r\n"
      ],
      "execution_count": null,
      "outputs": []
    },
    {
      "cell_type": "markdown",
      "metadata": {
        "id": "c-USIBl8JJxk"
      },
      "source": [
        "### 3.2 making a list of names and labels"
      ]
    },
    {
      "cell_type": "code",
      "metadata": {
        "id": "NS0emHkBI-8C"
      },
      "source": [
        "name = list(df.name)\r\n",
        "labels = list(df.gender)"
      ],
      "execution_count": null,
      "outputs": []
    },
    {
      "cell_type": "code",
      "metadata": {
        "colab": {
          "base_uri": "https://localhost:8080/"
        },
        "id": "BZJujaa5HvZZ",
        "outputId": "45fb542d-e3f8-4080-80ab-c2f114530699"
      },
      "source": [
        "name[:3] # checking"
      ],
      "execution_count": null,
      "outputs": [
        {
          "output_type": "execute_result",
          "data": {
            "text/plain": [
              "['Aabha', 'Aabid', 'Aabriella']"
            ]
          },
          "metadata": {
            "tags": []
          },
          "execution_count": 14
        }
      ]
    },
    {
      "cell_type": "code",
      "metadata": {
        "colab": {
          "base_uri": "https://localhost:8080/"
        },
        "id": "I5FZ-KE_JgGf",
        "outputId": "a0ee47cf-3a17-49b4-848e-a5a21dff9a2a"
      },
      "source": [
        "labels[:5]"
      ],
      "execution_count": null,
      "outputs": [
        {
          "output_type": "execute_result",
          "data": {
            "text/plain": [
              "[0, 1, 0, 0, 1]"
            ]
          },
          "metadata": {
            "tags": []
          },
          "execution_count": 15
        }
      ]
    },
    {
      "cell_type": "markdown",
      "metadata": {
        "id": "ygRejBH2JnZW"
      },
      "source": [
        "### 3.3 Applying countvectorizer"
      ]
    },
    {
      "cell_type": "code",
      "metadata": {
        "id": "omZ4_2J8JtIy"
      },
      "source": [
        "from sklearn.feature_extraction.text import CountVectorizer\r\n",
        "cv = CountVectorizer(analyzer = 'char')"
      ],
      "execution_count": null,
      "outputs": []
    },
    {
      "cell_type": "code",
      "metadata": {
        "id": "3qoLTBp1LvDe"
      },
      "source": [
        "names = cv.fit_transform(name).toarray()"
      ],
      "execution_count": null,
      "outputs": []
    },
    {
      "cell_type": "code",
      "metadata": {
        "colab": {
          "base_uri": "https://localhost:8080/"
        },
        "id": "DE-FMGAiKtdQ",
        "outputId": "20843f2c-85d4-4c05-da8a-667f5c16ed1e"
      },
      "source": [
        "names[:5]"
      ],
      "execution_count": null,
      "outputs": [
        {
          "output_type": "execute_result",
          "data": {
            "text/plain": [
              "array([[3, 1, 0, 0, 0, 0, 0, 1, 0, 0, 0, 0, 0, 0, 0, 0, 0, 0, 0, 0, 0, 0,\n",
              "        0, 0, 0, 0],\n",
              "       [2, 1, 0, 1, 0, 0, 0, 0, 1, 0, 0, 0, 0, 0, 0, 0, 0, 0, 0, 0, 0, 0,\n",
              "        0, 0, 0, 0],\n",
              "       [3, 1, 0, 0, 1, 0, 0, 0, 1, 0, 0, 2, 0, 0, 0, 0, 0, 1, 0, 0, 0, 0,\n",
              "        0, 0, 0, 0],\n",
              "       [3, 0, 0, 1, 0, 0, 0, 0, 0, 0, 0, 0, 0, 0, 0, 0, 0, 0, 0, 0, 0, 0,\n",
              "        0, 0, 0, 0],\n",
              "       [3, 0, 0, 1, 0, 0, 0, 0, 0, 0, 0, 0, 1, 0, 0, 0, 0, 0, 0, 0, 0, 0,\n",
              "        0, 0, 0, 0]])"
            ]
          },
          "metadata": {
            "tags": []
          },
          "execution_count": 18
        }
      ]
    },
    {
      "cell_type": "code",
      "metadata": {
        "colab": {
          "base_uri": "https://localhost:8080/"
        },
        "id": "RMh8CCKhKZ5G",
        "outputId": "0d0f2520-84ab-4840-98b7-5b52e165583d"
      },
      "source": [
        "len(names[2]) ## length of names"
      ],
      "execution_count": null,
      "outputs": [
        {
          "output_type": "execute_result",
          "data": {
            "text/plain": [
              "26"
            ]
          },
          "metadata": {
            "tags": []
          },
          "execution_count": 19
        }
      ]
    },
    {
      "cell_type": "markdown",
      "metadata": {
        "id": "oJATR_0mW2xb"
      },
      "source": [
        "### 3.4 Splitting data into train and test set"
      ]
    },
    {
      "cell_type": "code",
      "metadata": {
        "id": "igXrf2m7NTMQ"
      },
      "source": [
        "from sklearn.model_selection import train_test_split\r\n",
        "X_train, X_test, y_train, y_test = train_test_split(names, labels, test_size = .3, random_state = 42)"
      ],
      "execution_count": null,
      "outputs": []
    },
    {
      "cell_type": "markdown",
      "metadata": {
        "id": "_7VEgrR2Xlam"
      },
      "source": [
        "# 4. Modeling"
      ]
    },
    {
      "cell_type": "markdown",
      "metadata": {
        "id": "jLTyau9sXnkU"
      },
      "source": [
        "### 4.1 Applying MultinomialNB"
      ]
    },
    {
      "cell_type": "code",
      "metadata": {
        "colab": {
          "base_uri": "https://localhost:8080/"
        },
        "id": "2xwCXl52Xm2S",
        "outputId": "7d523931-8db7-4ae0-bd05-5361effac101"
      },
      "source": [
        "from sklearn.naive_bayes import MultinomialNB\r\n",
        "model = MultinomialNB()\r\n",
        "\r\n",
        "model.fit(X_train, y_train)"
      ],
      "execution_count": null,
      "outputs": [
        {
          "output_type": "execute_result",
          "data": {
            "text/plain": [
              "MultinomialNB(alpha=1.0, class_prior=None, fit_prior=True)"
            ]
          },
          "metadata": {
            "tags": []
          },
          "execution_count": 21
        }
      ]
    },
    {
      "cell_type": "markdown",
      "metadata": {
        "id": "oufrGU_zYVlp"
      },
      "source": [
        "#### 4.1.1 Predict the test set"
      ]
    },
    {
      "cell_type": "code",
      "metadata": {
        "id": "6y5LD6nPYXpv"
      },
      "source": [
        "y_pred = model.predict(X_test)\r\n"
      ],
      "execution_count": null,
      "outputs": []
    },
    {
      "cell_type": "markdown",
      "metadata": {
        "id": "C7Yx3WSmYkZa"
      },
      "source": [
        "#### 4.1.2 Evaluating the performance"
      ]
    },
    {
      "cell_type": "code",
      "metadata": {
        "colab": {
          "base_uri": "https://localhost:8080/"
        },
        "id": "je_FQ_y5Yn0H",
        "outputId": "bb945632-ff8d-44c3-d854-9d2473420fb1"
      },
      "source": [
        "from sklearn.metrics import accuracy_score\r\n",
        "\r\n",
        "accuracy_score(y_test, y_pred)"
      ],
      "execution_count": null,
      "outputs": [
        {
          "output_type": "execute_result",
          "data": {
            "text/plain": [
              "0.7040479865300968"
            ]
          },
          "metadata": {
            "tags": []
          },
          "execution_count": 23
        }
      ]
    },
    {
      "cell_type": "markdown",
      "metadata": {
        "id": "SBjz_zuKaR7I"
      },
      "source": [
        "### 4.2 Applying LSTM"
      ]
    },
    {
      "cell_type": "markdown",
      "metadata": {
        "id": "Zo_Akhov5DcT"
      },
      "source": [
        "#### 4.2.1 Applying tokenizer"
      ]
    },
    {
      "cell_type": "code",
      "metadata": {
        "id": "mOmK5rWTZ_Bt"
      },
      "source": [
        "from keras_preprocessing.text import Tokenizer\r\n",
        "tokenizer = Tokenizer(char_level = True) # To convert text into numbers we have a class in keras called Tokenizer.\r\n",
        "\r\n",
        "tokenizer.fit_on_texts(name)   # fit_on_text method accepts only list\r\n",
        "\r\n",
        "sequence_of_int = tokenizer.texts_to_sequences(name)  # it converts the generated tokens in the sequence."
      ],
      "execution_count": null,
      "outputs": []
    },
    {
      "cell_type": "code",
      "metadata": {
        "colab": {
          "base_uri": "https://localhost:8080/"
        },
        "id": "TtK7dkaMZ_RC",
        "outputId": "bf280cf7-24fb-4846-f024-f21e745c05fe"
      },
      "source": [
        "sequence_of_int[:3]  # "
      ],
      "execution_count": null,
      "outputs": [
        {
          "output_type": "execute_result",
          "data": {
            "text/plain": [
              "[[1, 1, 18, 8, 1], [1, 1, 18, 4, 12], [1, 1, 18, 5, 4, 2, 6, 6, 1]]"
            ]
          },
          "metadata": {
            "tags": []
          },
          "execution_count": 25
        }
      ]
    },
    {
      "cell_type": "markdown",
      "metadata": {
        "id": "fcT1yOx3gu_Q"
      },
      "source": [
        "- From the above example we can clearly see the sequence of the text that we have feeded to the Tokenizer is now converted in the sequence of numbers. "
      ]
    },
    {
      "cell_type": "markdown",
      "metadata": {
        "id": "aF4sEnzd5A9N"
      },
      "source": [
        "#### 4.2.2 Applying padding"
      ]
    },
    {
      "cell_type": "markdown",
      "metadata": {
        "id": "Ngud0Nyc4WqJ"
      },
      "source": [
        "Padding: add 0 in the begining or at end of the sentence to make all sentence of the same length. "
      ]
    },
    {
      "cell_type": "code",
      "metadata": {
        "id": "1wWtZra85SHo"
      },
      "source": [
        "from keras.preprocessing.sequence import pad_sequences\r\n",
        "padsequences = pad_sequences(sequence_of_int, maxlen = 15, padding = 'post')\r\n"
      ],
      "execution_count": null,
      "outputs": []
    },
    {
      "cell_type": "code",
      "metadata": {
        "colab": {
          "base_uri": "https://localhost:8080/"
        },
        "id": "HEF3jVky5SSp",
        "outputId": "a3c82b7b-bcf0-4e28-afa9-f71585c60f6f"
      },
      "source": [
        "padsequences[0]  # checking 1st value"
      ],
      "execution_count": null,
      "outputs": [
        {
          "output_type": "execute_result",
          "data": {
            "text/plain": [
              "array([ 1,  1, 18,  8,  1,  0,  0,  0,  0,  0,  0,  0,  0,  0,  0],\n",
              "      dtype=int32)"
            ]
          },
          "metadata": {
            "tags": []
          },
          "execution_count": 68
        }
      ]
    },
    {
      "cell_type": "code",
      "metadata": {
        "colab": {
          "base_uri": "https://localhost:8080/"
        },
        "id": "EDykBKC95SVX",
        "outputId": "8737f08b-85d3-4433-d514-9d1fc1694828"
      },
      "source": [
        "padsequences.shape"
      ],
      "execution_count": null,
      "outputs": [
        {
          "output_type": "execute_result",
          "data": {
            "text/plain": [
              "(95024, 15)"
            ]
          },
          "metadata": {
            "tags": []
          },
          "execution_count": 27
        }
      ]
    },
    {
      "cell_type": "markdown",
      "metadata": {
        "id": "FwiwgEgRcPCy"
      },
      "source": [
        "### 4.2.3 to_categorical"
      ]
    },
    {
      "cell_type": "code",
      "metadata": {
        "id": "uPYvfpkmc1sX"
      },
      "source": [
        "from keras.utils.np_utils import to_categorical\r\n",
        "labels = to_categorical(labels)"
      ],
      "execution_count": null,
      "outputs": []
    },
    {
      "cell_type": "markdown",
      "metadata": {
        "id": "u_exTCZTn1S_"
      },
      "source": [
        "### 4.2.4 Splitting the data into train and test set"
      ]
    },
    {
      "cell_type": "code",
      "metadata": {
        "id": "gxzykr4D8_G3"
      },
      "source": [
        "from sklearn.model_selection import train_test_split\r\n",
        "feature_train,feature_test,label_train,label_test=train_test_split(padsequences,labels,test_size=0.1,random_state=42)"
      ],
      "execution_count": null,
      "outputs": []
    },
    {
      "cell_type": "markdown",
      "metadata": {
        "id": "DLfg2hZtePg8"
      },
      "source": [
        "###  4.2.5 Importing necessary library for LSTM"
      ]
    },
    {
      "cell_type": "code",
      "metadata": {
        "id": "XYyETo6zBtvV"
      },
      "source": [
        "from keras.models import Sequential\r\n",
        "from keras.layers import Dense, LSTM, Embedding, Dropout"
      ],
      "execution_count": null,
      "outputs": []
    },
    {
      "cell_type": "code",
      "metadata": {
        "colab": {
          "base_uri": "https://localhost:8080/"
        },
        "id": "it-m1CkA5Y3W",
        "outputId": "6f7d14c4-fa6e-4930-b740-e468afbe8c27"
      },
      "source": [
        "model=Sequential()\r\n",
        "model.add(Embedding(27,64,input_length=15))\r\n",
        "#model.add(LSTM(2048,return_sequences=True))\r\n",
        "model.add(LSTM(256,return_sequences=False))\r\n",
        "model.add(Dropout(0.3))\r\n",
        "model.add(Dense(2,activation='sigmoid'))\r\n",
        "model.compile(loss = 'binary_crossentropy',optimizer='adam',metrics=['accuracy'])\r\n",
        "model.summary()"
      ],
      "execution_count": null,
      "outputs": [
        {
          "output_type": "stream",
          "text": [
            "Model: \"sequential\"\n",
            "_________________________________________________________________\n",
            "Layer (type)                 Output Shape              Param #   \n",
            "=================================================================\n",
            "embedding (Embedding)        (None, 15, 64)            1728      \n",
            "_________________________________________________________________\n",
            "lstm (LSTM)                  (None, 256)               328704    \n",
            "_________________________________________________________________\n",
            "dropout (Dropout)            (None, 256)               0         \n",
            "_________________________________________________________________\n",
            "dense (Dense)                (None, 2)                 514       \n",
            "=================================================================\n",
            "Total params: 330,946\n",
            "Trainable params: 330,946\n",
            "Non-trainable params: 0\n",
            "_________________________________________________________________\n"
          ],
          "name": "stdout"
        }
      ]
    },
    {
      "cell_type": "markdown",
      "metadata": {
        "id": "bLWP7ON03yj5"
      },
      "source": [
        "### 4.2.6 fitting the model"
      ]
    },
    {
      "cell_type": "code",
      "metadata": {
        "colab": {
          "base_uri": "https://localhost:8080/"
        },
        "id": "CaYQLxkvc4cG",
        "outputId": "e2decad5-229a-40f0-8979-e254237f6385"
      },
      "source": [
        "model.fit(feature_train,label_train,epochs=20,validation_data=(feature_test,label_test),batch_size=64)"
      ],
      "execution_count": null,
      "outputs": [
        {
          "output_type": "stream",
          "text": [
            "Epoch 1/20\n",
            "1337/1337 [==============================] - 117s 86ms/step - loss: 0.4922 - accuracy: 0.7616 - val_loss: 0.3621 - val_accuracy: 0.8443\n",
            "Epoch 2/20\n",
            "1337/1337 [==============================] - 119s 89ms/step - loss: 0.3668 - accuracy: 0.8414 - val_loss: 0.3419 - val_accuracy: 0.8562\n",
            "Epoch 3/20\n",
            "1337/1337 [==============================] - 115s 86ms/step - loss: 0.3416 - accuracy: 0.8538 - val_loss: 0.3316 - val_accuracy: 0.8656\n",
            "Epoch 4/20\n",
            "1337/1337 [==============================] - 113s 85ms/step - loss: 0.3074 - accuracy: 0.8716 - val_loss: 0.2818 - val_accuracy: 0.8859\n",
            "Epoch 5/20\n",
            "1337/1337 [==============================] - 112s 83ms/step - loss: 0.2741 - accuracy: 0.8860 - val_loss: 0.2764 - val_accuracy: 0.8851\n",
            "Epoch 6/20\n",
            "1337/1337 [==============================] - 110s 82ms/step - loss: 0.2505 - accuracy: 0.8969 - val_loss: 0.2484 - val_accuracy: 0.8987\n",
            "Epoch 7/20\n",
            "1337/1337 [==============================] - 111s 83ms/step - loss: 0.2261 - accuracy: 0.9075 - val_loss: 0.2376 - val_accuracy: 0.9023\n",
            "Epoch 8/20\n",
            "1337/1337 [==============================] - 113s 84ms/step - loss: 0.1986 - accuracy: 0.9195 - val_loss: 0.2350 - val_accuracy: 0.9055\n",
            "Epoch 9/20\n",
            "1337/1337 [==============================] - 112s 84ms/step - loss: 0.1751 - accuracy: 0.9297 - val_loss: 0.2289 - val_accuracy: 0.9120\n",
            "Epoch 10/20\n",
            "1337/1337 [==============================] - 111s 83ms/step - loss: 0.1450 - accuracy: 0.9410 - val_loss: 0.2419 - val_accuracy: 0.9121\n",
            "Epoch 11/20\n",
            "1337/1337 [==============================] - 113s 85ms/step - loss: 0.1232 - accuracy: 0.9503 - val_loss: 0.2519 - val_accuracy: 0.9139\n",
            "Epoch 12/20\n",
            "1337/1337 [==============================] - 114s 85ms/step - loss: 0.1011 - accuracy: 0.9593 - val_loss: 0.2734 - val_accuracy: 0.9136\n",
            "Epoch 13/20\n",
            "1337/1337 [==============================] - 118s 88ms/step - loss: 0.0854 - accuracy: 0.9655 - val_loss: 0.3086 - val_accuracy: 0.9071\n",
            "Epoch 14/20\n",
            "1337/1337 [==============================] - 120s 89ms/step - loss: 0.0673 - accuracy: 0.9733 - val_loss: 0.3414 - val_accuracy: 0.9054\n",
            "Epoch 15/20\n",
            "1337/1337 [==============================] - 117s 88ms/step - loss: 0.0553 - accuracy: 0.9789 - val_loss: 0.3340 - val_accuracy: 0.9103\n",
            "Epoch 16/20\n",
            "1337/1337 [==============================] - 118s 88ms/step - loss: 0.0471 - accuracy: 0.9822 - val_loss: 0.3581 - val_accuracy: 0.9091\n",
            "Epoch 17/20\n",
            "1337/1337 [==============================] - 118s 88ms/step - loss: 0.0389 - accuracy: 0.9852 - val_loss: 0.3718 - val_accuracy: 0.9121\n",
            "Epoch 18/20\n",
            "1337/1337 [==============================] - 117s 88ms/step - loss: 0.0329 - accuracy: 0.9877 - val_loss: 0.3888 - val_accuracy: 0.9097\n",
            "Epoch 19/20\n",
            "1337/1337 [==============================] - 115s 86ms/step - loss: 0.0323 - accuracy: 0.9882 - val_loss: 0.4228 - val_accuracy: 0.9092\n",
            "Epoch 20/20\n",
            "1337/1337 [==============================] - 114s 85ms/step - loss: 0.0275 - accuracy: 0.9900 - val_loss: 0.4087 - val_accuracy: 0.9144\n"
          ],
          "name": "stdout"
        },
        {
          "output_type": "execute_result",
          "data": {
            "text/plain": [
              "<tensorflow.python.keras.callbacks.History at 0x7f0d52ce9a10>"
            ]
          },
          "metadata": {
            "tags": []
          },
          "execution_count": 0
        }
      ]
    },
    {
      "cell_type": "markdown",
      "metadata": {
        "id": "7Qnus5LBbwfb"
      },
      "source": [
        "### 4.2.7 Saving the model"
      ]
    },
    {
      "cell_type": "code",
      "metadata": {
        "id": "Tq_tO1YWcKEA"
      },
      "source": [
        "model.save('model.h5')"
      ],
      "execution_count": null,
      "outputs": []
    },
    {
      "cell_type": "markdown",
      "metadata": {
        "id": "F2CjI33Ik6IE"
      },
      "source": [
        "#### 4.2.8 prediction on the test set"
      ]
    },
    {
      "cell_type": "code",
      "metadata": {
        "id": "gJiQYFD8cOHO"
      },
      "source": [
        "label_pred = model.predict(feature_test)"
      ],
      "execution_count": null,
      "outputs": []
    },
    {
      "cell_type": "code",
      "metadata": {
        "id": "rQDbnAk_kGAE"
      },
      "source": [
        "label_pred = np.argmax(label_pred, axis =1 ) #  returns the index of the maximum value in each row"
      ],
      "execution_count": null,
      "outputs": []
    },
    {
      "cell_type": "code",
      "metadata": {
        "colab": {
          "base_uri": "https://localhost:8080/"
        },
        "id": "iyjUtG51k16z",
        "outputId": "a587f8ac-2843-4ee9-f535-a52d9645899b"
      },
      "source": [
        "label_pred"
      ],
      "execution_count": null,
      "outputs": [
        {
          "output_type": "execute_result",
          "data": {
            "text/plain": [
              "array([1, 0, 0, ..., 0, 0, 0])"
            ]
          },
          "metadata": {
            "tags": []
          },
          "execution_count": 85
        }
      ]
    },
    {
      "cell_type": "markdown",
      "metadata": {
        "id": "DdevcrU_oI2G"
      },
      "source": [
        "# 5. Evaluate the model performance"
      ]
    },
    {
      "cell_type": "code",
      "metadata": {
        "id": "aevLsF9NlJrW"
      },
      "source": [
        "l_test = np.argmax(label_test, axis = 1)"
      ],
      "execution_count": null,
      "outputs": []
    },
    {
      "cell_type": "code",
      "metadata": {
        "colab": {
          "base_uri": "https://localhost:8080/"
        },
        "id": "c9U8xcU7lRPa",
        "outputId": "efe091f0-d8dd-4103-cf0a-65f3bfb96beb"
      },
      "source": [
        "import sklearn.metrics as m\r\n",
        "m.accuracy_score(l_test, label_pred)"
      ],
      "execution_count": null,
      "outputs": [
        {
          "output_type": "execute_result",
          "data": {
            "text/plain": [
              "0.9088708828790908"
            ]
          },
          "metadata": {
            "tags": []
          },
          "execution_count": 93
        }
      ]
    },
    {
      "cell_type": "code",
      "metadata": {
        "colab": {
          "base_uri": "https://localhost:8080/"
        },
        "id": "6hWR_Dimpyt7",
        "outputId": "3efb641c-4478-4fb8-db4f-6bc2389f23cb"
      },
      "source": [
        "print(m.classification_report(l_test,label_pred))"
      ],
      "execution_count": null,
      "outputs": [
        {
          "output_type": "stream",
          "text": [
            "              precision    recall  f1-score   support\n",
            "\n",
            "           0       0.93      0.93      0.93      6030\n",
            "           1       0.88      0.87      0.88      3473\n",
            "\n",
            "    accuracy                           0.91      9503\n",
            "   macro avg       0.90      0.90      0.90      9503\n",
            "weighted avg       0.91      0.91      0.91      9503\n",
            "\n",
            "              precision    recall  f1-score   support\n",
            "\n",
            "           0       0.93      0.93      0.93      6030\n",
            "           1       0.88      0.87      0.88      3473\n",
            "\n",
            "    accuracy                           0.91      9503\n",
            "   macro avg       0.90      0.90      0.90      9503\n",
            "weighted avg       0.91      0.91      0.91      9503\n",
            "\n"
          ],
          "name": "stdout"
        }
      ]
    },
    {
      "cell_type": "code",
      "metadata": {
        "colab": {
          "base_uri": "https://localhost:8080/",
          "height": 282
        },
        "id": "Ru7RPx_9r7aN",
        "outputId": "de9edc2b-c571-4d67-e9e7-28da31af1080"
      },
      "source": [
        "cm = m.confusion_matrix(l_test,label_pred)\r\n",
        "sns.heatmap(cm, annot = True, cbar = False, cmap =  'Blues', fmt= 'd')"
      ],
      "execution_count": null,
      "outputs": [
        {
          "output_type": "execute_result",
          "data": {
            "text/plain": [
              "<matplotlib.axes._subplots.AxesSubplot at 0x7f9e3caa0dd8>"
            ]
          },
          "metadata": {
            "tags": []
          },
          "execution_count": 109
        },
        {
          "output_type": "display_data",
          "data": {
            "image/png": "[encoded data removed]",
            "text/plain": [
              "<Figure size 432x288 with 1 Axes>"
            ]
          },
          "metadata": {
            "tags": [],
            "needs_background": "light"
          }
        }
      ]
    },
    {
      "cell_type": "markdown",
      "metadata": {
        "id": "fR6_6iH6zIAI"
      },
      "source": [
        "# 6. Testing the model"
      ]
    },
    {
      "cell_type": "markdown",
      "metadata": {
        "id": "3-JQf5bt1ohn"
      },
      "source": [
        "#### 6.1 Checking the token of the char"
      ]
    },
    {
      "cell_type": "code",
      "metadata": {
        "id": "KPhSA4HazMkp"
      },
      "source": [
        "from keras.models import load_model"
      ],
      "execution_count": null,
      "outputs": []
    },
    {
      "cell_type": "code",
      "metadata": {
        "id": "NgCLWDYX6tE0"
      },
      "source": [
        "import pickle"
      ],
      "execution_count": null,
      "outputs": []
    },
    {
      "cell_type": "code",
      "metadata": {
        "id": "I0_qbS9d7APF"
      },
      "source": [
        "pickle.dump(tokenizer, open('tokenizer.pkl', 'wb+'))"
      ],
      "execution_count": null,
      "outputs": []
    },
    {
      "cell_type": "code",
      "metadata": {
        "id": "D6sXZ_Ir7Mgn"
      },
      "source": [
        "tokenizer = pickle.load(open('tokenizer.pkl', 'rb+'))"
      ],
      "execution_count": null,
      "outputs": []
    },
    {
      "cell_type": "code",
      "metadata": {
        "colab": {
          "base_uri": "https://localhost:8080/"
        },
        "id": "hU9_lhaf7WWD",
        "outputId": "663b4de3-d50f-4c00-95be-eec524775e71"
      },
      "source": [
        "tokenizer.index_word"
      ],
      "execution_count": null,
      "outputs": [
        {
          "output_type": "execute_result",
          "data": {
            "text/plain": [
              "{1: 'a',\n",
              " 2: 'e',\n",
              " 3: 'n',\n",
              " 4: 'i',\n",
              " 5: 'r',\n",
              " 6: 'l',\n",
              " 7: 's',\n",
              " 8: 'h',\n",
              " 9: 'y',\n",
              " 10: 'o',\n",
              " 11: 't',\n",
              " 12: 'd',\n",
              " 13: 'm',\n",
              " 14: 'k',\n",
              " 15: 'c',\n",
              " 16: 'u',\n",
              " 17: 'j',\n",
              " 18: 'b',\n",
              " 19: 'v',\n",
              " 20: 'g',\n",
              " 21: 'z',\n",
              " 22: 'w',\n",
              " 23: 'p',\n",
              " 24: 'f',\n",
              " 25: 'q',\n",
              " 26: 'x'}"
            ]
          },
          "metadata": {
            "tags": []
          },
          "execution_count": 122
        }
      ]
    },
    {
      "cell_type": "markdown",
      "metadata": {
        "id": "NNWDzVJY82O9"
      },
      "source": [
        "#### 6.2 Creating function to generate the sequence of text"
      ]
    },
    {
      "cell_type": "markdown",
      "metadata": {
        "id": "iSLz-OS0DNPj"
      },
      "source": [
        "- we have to create a function to  generate the sequence of  text and we have to pass the same lenth of the sequence. that's why we are using pad sequence"
      ]
    },
    {
      "cell_type": "code",
      "metadata": {
        "id": "91Ylr7-3AlqG"
      },
      "source": [
        "def input(n):\r\n",
        "  q = tokenizer.texts_to_sequences(n)  # convert  text into sequences\r\n",
        "  q = [i[0] for i in q]\r\n",
        "  q1 = []\r\n",
        "  q1.append(q)\r\n",
        "  s = pad_sequences(q1, maxlen = 15, padding = 'post') # we have pass the same sequence to check the result that's why we are taking pad_sequenes\r\n",
        "  return s"
      ],
      "execution_count": null,
      "outputs": []
    },
    {
      "cell_type": "code",
      "metadata": {
        "colab": {
          "base_uri": "https://localhost:8080/"
        },
        "id": "0vEllkaSA9tL",
        "outputId": "716d0f78-1595-4d2f-ded5-39b03f8eedf0"
      },
      "source": [
        "tokenizer.texts_to_sequences('Zyvion')  #"
      ],
      "execution_count": null,
      "outputs": [
        {
          "output_type": "execute_result",
          "data": {
            "text/plain": [
              "[[21], [9], [19], [4], [10], [3]]"
            ]
          },
          "metadata": {
            "tags": []
          },
          "execution_count": 161
        }
      ]
    },
    {
      "cell_type": "code",
      "metadata": {
        "colab": {
          "base_uri": "https://localhost:8080/"
        },
        "id": "VZxXTR7IBxGy",
        "outputId": "8c4a6013-2ff0-4ce2-b10c-e1de9b41301d"
      },
      "source": [
        "input('Zyvion')  ##  checking the sequence of text  with pad_sequnece"
      ],
      "execution_count": null,
      "outputs": [
        {
          "output_type": "execute_result",
          "data": {
            "text/plain": [
              "array([[21,  9, 19,  4, 10,  3,  0,  0,  0,  0,  0,  0,  0,  0,  0]],\n",
              "      dtype=int32)"
            ]
          },
          "metadata": {
            "tags": []
          },
          "execution_count": 162
        }
      ]
    },
    {
      "cell_type": "markdown",
      "metadata": {
        "id": "q4488tcVDyFx"
      },
      "source": [
        "#### 6.3 Creating a function to check the prediction "
      ]
    },
    {
      "cell_type": "code",
      "metadata": {
        "id": "TZ2yNMKtB6Fz"
      },
      "source": [
        "def pred(n):\r\n",
        "  w = model.predict(input(n))\r\n",
        "  w = np.argmax(w, axis = 1)\r\n",
        "  return w[0]"
      ],
      "execution_count": null,
      "outputs": []
    },
    {
      "cell_type": "markdown",
      "metadata": {
        "id": "wWS-UUJAEZuK"
      },
      "source": [
        "### !Lets check the output"
      ]
    },
    {
      "cell_type": "code",
      "metadata": {
        "colab": {
          "base_uri": "https://localhost:8080/"
        },
        "id": "oLY7hEyDCIyL",
        "outputId": "4a3022af-7c25-4b5d-91f9-c9374da46b1b"
      },
      "source": [
        "pred('Zyvion')"
      ],
      "execution_count": null,
      "outputs": [
        {
          "output_type": "execute_result",
          "data": {
            "text/plain": [
              "1"
            ]
          },
          "metadata": {
            "tags": []
          },
          "execution_count": 166
        }
      ]
    },
    {
      "cell_type": "code",
      "metadata": {
        "colab": {
          "base_uri": "https://localhost:8080/"
        },
        "id": "gTetWACmC9pU",
        "outputId": "d0ce9658-f9da-48fa-b56e-6afdaf118b06"
      },
      "source": [
        "pred('Zyyanna') "
      ],
      "execution_count": null,
      "outputs": [
        {
          "output_type": "execute_result",
          "data": {
            "text/plain": [
              "0"
            ]
          },
          "metadata": {
            "tags": []
          },
          "execution_count": 169
        }
      ]
    },
    {
      "cell_type": "code",
      "metadata": {
        "colab": {
          "base_uri": "https://localhost:8080/"
        },
        "id": "S_2V47o0EDdM",
        "outputId": "b548668c-bcdf-4933-b650-229a9057b8cf"
      },
      "source": [
        "pred('Zyrihanna')"
      ],
      "execution_count": null,
      "outputs": [
        {
          "output_type": "execute_result",
          "data": {
            "text/plain": [
              "0"
            ]
          },
          "metadata": {
            "tags": []
          },
          "execution_count": 173
        }
      ]
    },
    {
      "cell_type": "code",
      "metadata": {
        "colab": {
          "base_uri": "https://localhost:8080/"
        },
        "id": "pCGS-nreEHNO",
        "outputId": "7675c651-e4d2-44a4-9f84-6ccd71d96325"
      },
      "source": [
        "pred('Zyriel')"
      ],
      "execution_count": null,
      "outputs": [
        {
          "output_type": "execute_result",
          "data": {
            "text/plain": [
              "0"
            ]
          },
          "metadata": {
            "tags": []
          },
          "execution_count": 174
        }
      ]
    },
    {
      "cell_type": "code",
      "metadata": {
        "colab": {
          "base_uri": "https://localhost:8080/"
        },
        "id": "Au_sqYpYENqK",
        "outputId": "51ace00e-cfda-45e3-99ab-fee62fff157e"
      },
      "source": [
        "pred('Zyrion')"
      ],
      "execution_count": null,
      "outputs": [
        {
          "output_type": "execute_result",
          "data": {
            "text/plain": [
              "1"
            ]
          },
          "metadata": {
            "tags": []
          },
          "execution_count": 175
        }
      ]
    },
    {
      "cell_type": "markdown",
      "metadata": {
        "id": "8F901clFEofi"
      },
      "source": [
        "\r\n",
        "# 7. Conclusion :\r\n",
        "*` 1. Here we have made a model that the predict the gender by using their name`*\r\n",
        " \r\n",
        "*`2. In Modeling I have used MultinomialNB and LSTM model`*\r\n",
        " \r\n",
        "*` 3. The LSTM model performed well for this problem statement. So i selected LSTM to make prediction and I achieved 90% accuracy.which is better for this use case`*\r\n"
      ]
    }
  ]
}